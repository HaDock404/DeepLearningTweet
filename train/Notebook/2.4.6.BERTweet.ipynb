{
 "cells": [
  {
   "cell_type": "code",
   "execution_count": 1,
   "metadata": {},
   "outputs": [
    {
     "name": "stderr",
     "output_type": "stream",
     "text": [
      "/var/folders/kl/3nc79ycx61v13jbqlw61nnfw0000gn/T/ipykernel_13785/1102527777.py:3: DeprecationWarning: \n",
      "Pyarrow will become a required dependency of pandas in the next major release of pandas (pandas 3.0),\n",
      "(to allow more performant data types, such as the Arrow string type, and better interoperability with other libraries)\n",
      "but was not found to be installed on your system.\n",
      "If this would cause problems for you,\n",
      "please provide us feedback at https://github.com/pandas-dev/pandas/issues/54466\n",
      "        \n",
      "  import pandas as pd\n"
     ]
    }
   ],
   "source": [
    "# manipulation des données\n",
    "import numpy as np\n",
    "import pandas as pd\n",
    "\n",
    "# matplotlib et seaborn pour les représentations graphiques\n",
    "import matplotlib.pyplot as plt\n",
    "import seaborn as sns"
   ]
  },
  {
   "cell_type": "code",
   "execution_count": 2,
   "metadata": {},
   "outputs": [],
   "source": [
    "df = pd.read_csv(\"../Data/2.sample_dataset.csv\")\n",
    "df = df.dropna(subset=['words'])"
   ]
  },
  {
   "cell_type": "code",
   "execution_count": 3,
   "metadata": {},
   "outputs": [
    {
     "data": {
      "text/plain": [
       "target\n",
       "0    55\n",
       "1    45\n",
       "Name: count, dtype: int64"
      ]
     },
     "execution_count": 3,
     "metadata": {},
     "output_type": "execute_result"
    }
   ],
   "source": [
    "df_sample = df.sample(100)\n",
    "df_sample['target'].value_counts()"
   ]
  },
  {
   "cell_type": "code",
   "execution_count": 4,
   "metadata": {},
   "outputs": [
    {
     "name": "stderr",
     "output_type": "stream",
     "text": [
      "/Applications/anaconda3/envs/Projet7bisEnv/lib/python3.10/site-packages/tqdm/auto.py:21: TqdmWarning: IProgress not found. Please update jupyter and ipywidgets. See https://ipywidgets.readthedocs.io/en/stable/user_install.html\n",
      "  from .autonotebook import tqdm as notebook_tqdm\n"
     ]
    }
   ],
   "source": [
    "import torch\n",
    "from transformers import AutoModel, AutoTokenizer"
   ]
  },
  {
   "cell_type": "code",
   "execution_count": 5,
   "metadata": {},
   "outputs": [
    {
     "name": "stderr",
     "output_type": "stream",
     "text": [
      "Some weights of RobertaModel were not initialized from the model checkpoint at vinai/bertweet-large and are newly initialized: ['roberta.pooler.dense.bias', 'roberta.pooler.dense.weight']\n",
      "You should probably TRAIN this model on a down-stream task to be able to use it for predictions and inference.\n"
     ]
    }
   ],
   "source": [
    "bertweet = AutoModel.from_pretrained(\"vinai/bertweet-large\")\n",
    "tokenizer = AutoTokenizer.from_pretrained(\"vinai/bertweet-large\")"
   ]
  },
  {
   "cell_type": "code",
   "execution_count": 6,
   "metadata": {},
   "outputs": [],
   "source": [
    "tabX = []\n",
    "for sentence in df_sample['words']:\n",
    "    testX = tokenizer.encode(sentence, return_tensors='pt')\n",
    "    tabX.append(testX)"
   ]
  },
  {
   "cell_type": "code",
   "execution_count": 7,
   "metadata": {},
   "outputs": [],
   "source": [
    "tabY = []\n",
    "for i in tabX:\n",
    "    with torch.no_grad():\n",
    "        outputs = bertweet(i)\n",
    "    last_hidden_state = outputs[0]\n",
    "    tabY.append(last_hidden_state)"
   ]
  },
  {
   "cell_type": "code",
   "execution_count": 11,
   "metadata": {},
   "outputs": [],
   "source": [
    "tab_predictions = []\n",
    "for i in tabY:\n",
    "    predictions = torch.nn.Softmax(dim=-1)(i)\n",
    "    tab_predictions.append(predictions)"
   ]
  },
  {
   "cell_type": "code",
   "execution_count": 12,
   "metadata": {},
   "outputs": [
    {
     "name": "stdout",
     "output_type": "stream",
     "text": [
      "Sentence 1: Sentiment positif\n",
      "Sentence 2: Sentiment positif\n",
      "Sentence 3: Sentiment positif\n",
      "Sentence 4: Sentiment positif\n",
      "Sentence 5: Sentiment positif\n",
      "Sentence 6: Sentiment positif\n",
      "Sentence 7: Sentiment positif\n",
      "Sentence 8: Sentiment positif\n",
      "Sentence 9: Sentiment positif\n",
      "Sentence 10: Sentiment positif\n",
      "Sentence 11: Sentiment positif\n",
      "Sentence 12: Sentiment positif\n",
      "Sentence 13: Sentiment positif\n",
      "Sentence 14: Sentiment positif\n",
      "Sentence 15: Sentiment positif\n",
      "Sentence 16: Sentiment positif\n",
      "Sentence 17: Sentiment positif\n",
      "Sentence 18: Sentiment positif\n",
      "Sentence 19: Sentiment positif\n",
      "Sentence 20: Sentiment positif\n",
      "Sentence 21: Sentiment positif\n",
      "Sentence 22: Sentiment positif\n",
      "Sentence 23: Sentiment positif\n",
      "Sentence 24: Sentiment positif\n",
      "Sentence 25: Sentiment positif\n",
      "Sentence 26: Sentiment positif\n",
      "Sentence 27: Sentiment positif\n",
      "Sentence 28: Sentiment positif\n",
      "Sentence 29: Sentiment positif\n",
      "Sentence 30: Sentiment positif\n",
      "Sentence 31: Sentiment positif\n",
      "Sentence 32: Sentiment positif\n",
      "Sentence 33: Sentiment positif\n",
      "Sentence 34: Sentiment positif\n",
      "Sentence 35: Sentiment positif\n",
      "Sentence 36: Sentiment positif\n",
      "Sentence 37: Sentiment positif\n",
      "Sentence 38: Sentiment positif\n",
      "Sentence 39: Sentiment positif\n",
      "Sentence 40: Sentiment positif\n",
      "Sentence 41: Sentiment positif\n",
      "Sentence 42: Sentiment positif\n",
      "Sentence 43: Sentiment positif\n",
      "Sentence 44: Sentiment positif\n",
      "Sentence 45: Sentiment positif\n",
      "Sentence 46: Sentiment positif\n",
      "Sentence 47: Sentiment positif\n",
      "Sentence 48: Sentiment positif\n",
      "Sentence 49: Sentiment positif\n",
      "Sentence 50: Sentiment positif\n",
      "Sentence 51: Sentiment positif\n",
      "Sentence 52: Sentiment positif\n",
      "Sentence 53: Sentiment positif\n",
      "Sentence 54: Sentiment positif\n",
      "Sentence 55: Sentiment positif\n",
      "Sentence 56: Sentiment positif\n",
      "Sentence 57: Sentiment positif\n",
      "Sentence 58: Sentiment positif\n",
      "Sentence 59: Sentiment positif\n",
      "Sentence 60: Sentiment positif\n",
      "Sentence 61: Sentiment positif\n",
      "Sentence 62: Sentiment positif\n",
      "Sentence 63: Sentiment positif\n",
      "Sentence 64: Sentiment positif\n",
      "Sentence 65: Sentiment positif\n",
      "Sentence 66: Sentiment positif\n",
      "Sentence 67: Sentiment positif\n",
      "Sentence 68: Sentiment positif\n",
      "Sentence 69: Sentiment positif\n",
      "Sentence 70: Sentiment positif\n",
      "Sentence 71: Sentiment positif\n",
      "Sentence 72: Sentiment positif\n",
      "Sentence 73: Sentiment positif\n",
      "Sentence 74: Sentiment positif\n",
      "Sentence 75: Sentiment positif\n",
      "Sentence 76: Sentiment positif\n",
      "Sentence 77: Sentiment positif\n",
      "Sentence 78: Sentiment positif\n",
      "Sentence 79: Sentiment positif\n",
      "Sentence 80: Sentiment positif\n",
      "Sentence 81: Sentiment positif\n",
      "Sentence 82: Sentiment positif\n",
      "Sentence 83: Sentiment positif\n",
      "Sentence 84: Sentiment positif\n",
      "Sentence 85: Sentiment positif\n",
      "Sentence 86: Sentiment positif\n",
      "Sentence 87: Sentiment positif\n",
      "Sentence 88: Sentiment positif\n",
      "Sentence 89: Sentiment positif\n",
      "Sentence 90: Sentiment positif\n",
      "Sentence 91: Sentiment positif\n",
      "Sentence 92: Sentiment positif\n",
      "Sentence 93: Sentiment positif\n",
      "Sentence 94: Sentiment positif\n",
      "Sentence 95: Sentiment positif\n",
      "Sentence 96: Sentiment positif\n",
      "Sentence 97: Sentiment positif\n",
      "Sentence 98: Sentiment positif\n",
      "Sentence 99: Sentiment positif\n",
      "Sentence 100: Sentiment positif\n"
     ]
    }
   ],
   "source": [
    "for i, pred in enumerate(tab_predictions):\n",
    "    predicted_class = torch.argmax(pred).item()\n",
    "    if predicted_class == 0:\n",
    "        print(f\"Sentence {i + 1}: Sentiment négatif\")\n",
    "    else:\n",
    "        print(f\"Sentence {i + 1}: Sentiment positif\")"
   ]
  },
  {
   "cell_type": "code",
   "execution_count": null,
   "metadata": {},
   "outputs": [],
   "source": []
  }
 ],
 "metadata": {
  "kernelspec": {
   "display_name": "Projet7bisEnv",
   "language": "python",
   "name": "python3"
  },
  "language_info": {
   "codemirror_mode": {
    "name": "ipython",
    "version": 3
   },
   "file_extension": ".py",
   "mimetype": "text/x-python",
   "name": "python",
   "nbconvert_exporter": "python",
   "pygments_lexer": "ipython3",
   "version": "3.10.9"
  }
 },
 "nbformat": 4,
 "nbformat_minor": 2
}

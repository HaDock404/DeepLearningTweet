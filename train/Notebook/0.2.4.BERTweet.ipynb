{
 "cells": [
  {
   "cell_type": "code",
   "execution_count": 1,
   "metadata": {},
   "outputs": [],
   "source": [
    "# manipulation des données\n",
    "import numpy as np\n",
    "import pandas as pd\n",
    "\n",
    "# matplotlib et seaborn pour les représentations graphiques\n",
    "import matplotlib.pyplot as plt\n",
    "import seaborn as sns"
   ]
  },
  {
   "cell_type": "code",
   "execution_count": 2,
   "metadata": {},
   "outputs": [
    {
     "data": {
      "text/plain": [
       "target\n",
       "0    5034\n",
       "1    4966\n",
       "Name: count, dtype: int64"
      ]
     },
     "execution_count": 2,
     "metadata": {},
     "output_type": "execute_result"
    }
   ],
   "source": [
    "df = pd.read_csv(\"../Data/2.train_df.csv\")\n",
    "df = df.dropna(subset=['words'])\n",
    "df_sample = df.sample(10000)\n",
    "df_sample['target'].value_counts()"
   ]
  },
  {
   "cell_type": "code",
   "execution_count": 3,
   "metadata": {},
   "outputs": [],
   "source": [
    "from sklearn.model_selection import train_test_split\n",
    "\n",
    "X = df_sample['words']\n",
    "y = df_sample['target']\n",
    "\n",
    "X_train, X_test, y_train, y_test = train_test_split(X, y, test_size=0.2, random_state=42)"
   ]
  },
  {
   "cell_type": "code",
   "execution_count": 4,
   "metadata": {},
   "outputs": [
    {
     "name": "stderr",
     "output_type": "stream",
     "text": [
      "/Applications/anaconda3/envs/Projet7bisEnv/lib/python3.10/site-packages/tqdm/auto.py:21: TqdmWarning: IProgress not found. Please update jupyter and ipywidgets. See https://ipywidgets.readthedocs.io/en/stable/user_install.html\n",
      "  from .autonotebook import tqdm as notebook_tqdm\n",
      "2024-02-15 14:44:11.240813: I tensorflow/core/platform/cpu_feature_guard.cc:182] This TensorFlow binary is optimized to use available CPU instructions in performance-critical operations.\n",
      "To enable the following instructions: AVX2 FMA, in other operations, rebuild TensorFlow with the appropriate compiler flags.\n"
     ]
    }
   ],
   "source": [
    "import mlflow\n",
    "from pysentimiento import create_analyzer\n",
    "from transformers import AutoTokenizer, AutoModelForSequenceClassification"
   ]
  },
  {
   "cell_type": "code",
   "execution_count": 6,
   "metadata": {},
   "outputs": [
    {
     "name": "stderr",
     "output_type": "stream",
     "text": [
      "Registered model 'BERTweet' already exists. Creating a new version of this model...\n",
      "Created version '2' of model 'BERTweet'.\n"
     ]
    }
   ],
   "source": [
    "from sklearn.metrics import accuracy_score\n",
    "from sklearn.metrics import precision_score\n",
    "from sklearn.metrics import recall_score\n",
    "from sklearn.metrics import f1_score\n",
    "from sklearn.metrics import roc_curve, auc, confusion_matrix\n",
    "import joblib\n",
    "\n",
    "artifact_path = './artifacts/'\n",
    "\n",
    "best_metric_value = -1\n",
    "best_model_path = \"\"\n",
    "\n",
    "mlflow.set_experiment(\"DeepLearningTweet\")\n",
    "\n",
    "with mlflow.start_run(run_name=\"roberta-targeted-sentiment-analysis\"):\n",
    "        clf = create_analyzer(task=\"sentiment\", lang=\"en\")\n",
    "\n",
    "        model_name = \"pysentimiento/roberta-targeted-sentiment-analysis\"\n",
    "        tokenizer = AutoTokenizer.from_pretrained(\"pysentimiento/roberta-targeted-sentiment-analysis\")\n",
    "        model = AutoModelForSequenceClassification.from_pretrained(\"pysentimiento/roberta-targeted-sentiment-analysis\")\n",
    "\n",
    "        y_pred = []\n",
    "        for i in df_sample['words']:\n",
    "            result = clf.predict(i)\n",
    "            if result.output == 'POS':\n",
    "                result = 1\n",
    "            elif result.output == 'NEG':\n",
    "                result = 0\n",
    "            elif result.output == 'NEU':\n",
    "                result = 0\n",
    "            y_pred.append(result)\n",
    "\n",
    "        mlflow.log_metric(\"accuracy\", accuracy_score(df_sample['target'], y_pred))\n",
    "        mlflow.log_metric(\"Precision\", precision_score(df_sample['target'], y_pred))\n",
    "        mlflow.log_metric(\"Recall\", recall_score(df_sample['target'], y_pred))\n",
    "        mlflow.log_metric(\"F1_Score\", f1_score(df_sample['target'], y_pred))\n",
    "        mlflow.log_param(\"task\", \"sentiment\")\n",
    "        mlflow.log_param(\"lang\", \"en\")\n",
    "        mlflow.log_param(\"model_name\", model_name)\n",
    "\n",
    "        fpr, tpr, thresholds = roc_curve(df_sample['target'], y_pred)\n",
    "        roc_auc = auc(fpr, tpr)\n",
    "        mlflow.log_metric(\"AUC\", roc_auc)\n",
    "\n",
    "        best_model_path = f\"{artifact_path}roberta-targeted-sentiment-analysis\"\n",
    "        mlflow.set_tag(\"tag1\", \"BERTweet\")\n",
    "        mlflow.sklearn.log_model(clf, \"model\", registered_model_name=\"BERTweet\")\n",
    "        mlflow.log_artifact(best_model_path, \"roberta-targeted-sentiment-analysis\")\n",
    "\n",
    "        conf_matrix = confusion_matrix(df_sample['target'], y_pred)\n",
    "        conf_matrix_path = f\"{artifact_path}roberta-targeted-sentiment-analysis.csv\"\n",
    "        pd.DataFrame(conf_matrix).to_csv(conf_matrix_path, index=False, header=False)\n",
    "        mlflow.log_artifact(conf_matrix_path, \"metrics\")\n",
    "\n",
    "        plt.figure(figsize=(8, 8))\n",
    "        plt.plot(fpr, tpr, color='darkorange', lw=2, label='ROC curve (area = {:.2f})'.format(roc_auc))\n",
    "        plt.plot([0, 1], [0, 1], color='navy', lw=2, linestyle='--')\n",
    "        plt.xlabel('False Positive Rate')\n",
    "        plt.ylabel('True Positive Rate')\n",
    "        plt.title('Receiver Operating Characteristic (ROC) Curve')\n",
    "        plt.legend(loc=\"lower right\")\n",
    "        plt.grid(True)\n",
    "        roc_curve_path = f\"{artifact_path}roc_roberta-targeted-sentiment-analysis.png\"\n",
    "        plt.savefig(roc_curve_path)\n",
    "        plt.close()\n",
    "        mlflow.log_artifact(roc_curve_path, \"plots\")"
   ]
  },
  {
   "cell_type": "code",
   "execution_count": null,
   "metadata": {},
   "outputs": [],
   "source": []
  }
 ],
 "metadata": {
  "kernelspec": {
   "display_name": "Projet7bisEnv",
   "language": "python",
   "name": "python3"
  },
  "language_info": {
   "codemirror_mode": {
    "name": "ipython",
    "version": 3
   },
   "file_extension": ".py",
   "mimetype": "text/x-python",
   "name": "python",
   "nbconvert_exporter": "python",
   "pygments_lexer": "ipython3",
   "version": "3.10.9"
  }
 },
 "nbformat": 4,
 "nbformat_minor": 2
}

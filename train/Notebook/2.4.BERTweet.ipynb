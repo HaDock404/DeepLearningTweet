{
 "cells": [
  {
   "cell_type": "code",
   "execution_count": 1,
   "metadata": {},
   "outputs": [],
   "source": [
    "# manipulation des données\n",
    "import numpy as np\n",
    "import pandas as pd\n",
    "\n",
    "# matplotlib et seaborn pour les représentations graphiques\n",
    "import matplotlib.pyplot as plt\n",
    "import seaborn as sns"
   ]
  },
  {
   "cell_type": "code",
   "execution_count": 2,
   "metadata": {},
   "outputs": [
    {
     "data": {
      "text/plain": [
       "target\n",
       "1    5037\n",
       "0    4963\n",
       "Name: count, dtype: int64"
      ]
     },
     "execution_count": 2,
     "metadata": {},
     "output_type": "execute_result"
    }
   ],
   "source": [
    "df = pd.read_csv(\"../Data/2.sample_dataset.csv\")\n",
    "df = df.dropna(subset=['words'])\n",
    "df_sample = df.sample(10000)\n",
    "df_sample['target'].value_counts()"
   ]
  },
  {
   "cell_type": "code",
   "execution_count": 3,
   "metadata": {},
   "outputs": [],
   "source": [
    "from sklearn.model_selection import train_test_split\n",
    "\n",
    "X = df_sample['words']\n",
    "y = df_sample['target']\n",
    "\n",
    "X_train, X_test, y_train, y_test = train_test_split(X, y, test_size=0.2, random_state=42)"
   ]
  },
  {
   "cell_type": "code",
   "execution_count": 11,
   "metadata": {},
   "outputs": [],
   "source": [
    "import mlflow\n",
    "from pysentimiento import create_analyzer\n",
    "from transformers import AutoTokenizer, AutoModelForSequenceClassification"
   ]
  },
  {
   "cell_type": "code",
   "execution_count": 17,
   "metadata": {},
   "outputs": [],
   "source": [
    "from sklearn.metrics import accuracy_score\n",
    "from sklearn.metrics import precision_score\n",
    "from sklearn.metrics import recall_score\n",
    "from sklearn.metrics import f1_score\n",
    "from sklearn.metrics import roc_curve, auc, confusion_matrix\n",
    "import joblib\n",
    "\n",
    "artifact_path = './artifacts/'\n",
    "\n",
    "best_metric_value = -1\n",
    "best_model_path = \"\"\n",
    "\n",
    "mlflow.set_experiment(\"BERTweet\")\n",
    "\n",
    "with mlflow.start_run(run_name=\"roberta-targeted-sentiment-analysis\"):\n",
    "        clf = create_analyzer(task=\"sentiment\", lang=\"en\")\n",
    "\n",
    "        model_name = \"pysentimiento/roberta-targeted-sentiment-analysis\"\n",
    "        tokenizer = AutoTokenizer.from_pretrained(\"pysentimiento/roberta-targeted-sentiment-analysis\")\n",
    "        model = AutoModelForSequenceClassification.from_pretrained(\"pysentimiento/roberta-targeted-sentiment-analysis\")\n",
    "\n",
    "        y_pred = []\n",
    "        for i in df_sample['words']:\n",
    "            result = clf.predict(i)\n",
    "            if result.output == 'POS':\n",
    "                result = 1\n",
    "            elif result.output == 'NEG':\n",
    "                result = 0\n",
    "            elif result.output == 'NEU':\n",
    "                result = 0\n",
    "            y_pred.append(result)\n",
    "\n",
    "        mlflow.log_metric(\"accuracy\", accuracy_score(df_sample['target'], y_pred))\n",
    "        mlflow.log_metric(\"Precision\", precision_score(df_sample['target'], y_pred))\n",
    "        mlflow.log_metric(\"Recall\", recall_score(df_sample['target'], y_pred))\n",
    "        mlflow.log_metric(\"F1_Score\", f1_score(df_sample['target'], y_pred))\n",
    "        mlflow.log_param(\"task\", \"sentiment\")\n",
    "        mlflow.log_param(\"lang\", \"en\")\n",
    "        mlflow.log_param(\"model_name\", model_name)\n",
    "\n",
    "        fpr, tpr, thresholds = roc_curve(df_sample['target'], y_pred)\n",
    "        roc_auc = auc(fpr, tpr)\n",
    "        mlflow.log_metric(\"AUC\", roc_auc)\n",
    "\n",
    "        best_model_path = f\"{artifact_path}roberta-targeted-sentiment-analysis\"\n",
    "        tokenizer.save_pretrained(best_model_path)\n",
    "        model.save_pretrained(best_model_path)\n",
    "        #clf.save_pretrained(best_model_path)\n",
    "        #joblib.dump(clf, best_model_path)\n",
    "        mlflow.log_artifact(best_model_path, \"roberta-targeted-sentiment-analysis\")\n",
    "\n",
    "        conf_matrix = confusion_matrix(df_sample['target'], y_pred)\n",
    "        conf_matrix_path = f\"{artifact_path}roberta-targeted-sentiment-analysis.csv\"\n",
    "        pd.DataFrame(conf_matrix).to_csv(conf_matrix_path, index=False, header=False)\n",
    "        mlflow.log_artifact(conf_matrix_path, \"metrics\")\n",
    "\n",
    "        plt.figure(figsize=(8, 8))\n",
    "        plt.plot(fpr, tpr, color='darkorange', lw=2, label='ROC curve (area = {:.2f})'.format(roc_auc))\n",
    "        plt.plot([0, 1], [0, 1], color='navy', lw=2, linestyle='--')\n",
    "        plt.xlabel('False Positive Rate')\n",
    "        plt.ylabel('True Positive Rate')\n",
    "        plt.title('Receiver Operating Characteristic (ROC) Curve')\n",
    "        plt.legend(loc=\"lower right\")\n",
    "        plt.grid(True)\n",
    "        roc_curve_path = f\"{artifact_path}roc_roberta-targeted-sentiment-analysis.png\"\n",
    "        plt.savefig(roc_curve_path)\n",
    "        plt.close()\n",
    "        mlflow.log_artifact(roc_curve_path, \"plots\")"
   ]
  },
  {
   "cell_type": "code",
   "execution_count": 18,
   "metadata": {},
   "outputs": [
    {
     "name": "stderr",
     "output_type": "stream",
     "text": [
      "Successfully registered model 'roberta-targeted-sentiment-analysis-model'.\n",
      "Created version '1' of model 'roberta-targeted-sentiment-analysis-model'.\n"
     ]
    }
   ],
   "source": [
    "result = mlflow.register_model(\n",
    "    \"runs:/2611a276d34e47889790945b2783644d/roberta-targeted-sentiment-analysis-model\", \"roberta-targeted-sentiment-analysis-model\"\n",
    ")"
   ]
  },
  {
   "cell_type": "code",
   "execution_count": null,
   "metadata": {},
   "outputs": [],
   "source": []
  }
 ],
 "metadata": {
  "kernelspec": {
   "display_name": "Projet7bisEnv",
   "language": "python",
   "name": "python3"
  },
  "language_info": {
   "codemirror_mode": {
    "name": "ipython",
    "version": 3
   },
   "file_extension": ".py",
   "mimetype": "text/x-python",
   "name": "python",
   "nbconvert_exporter": "python",
   "pygments_lexer": "ipython3",
   "version": "3.10.9"
  }
 },
 "nbformat": 4,
 "nbformat_minor": 2
}
